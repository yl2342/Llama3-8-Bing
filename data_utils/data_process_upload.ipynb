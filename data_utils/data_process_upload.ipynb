{
 "cells": [
  {
   "cell_type": "code",
   "execution_count": 12,
   "metadata": {},
   "outputs": [
    {
     "name": "stdout",
     "output_type": "stream",
     "text": [
      "Requirement already satisfied: datasets in /Users/yuntian/opt/anaconda3/envs/cpsc577/lib/python3.11/site-packages (2.19.1)\n",
      "Requirement already satisfied: huggingface_hub in /Users/yuntian/opt/anaconda3/envs/cpsc577/lib/python3.11/site-packages (0.23.0)\n",
      "Requirement already satisfied: filelock in /Users/yuntian/opt/anaconda3/envs/cpsc577/lib/python3.11/site-packages (from datasets) (3.13.4)\n",
      "Requirement already satisfied: numpy>=1.17 in /Users/yuntian/opt/anaconda3/envs/cpsc577/lib/python3.11/site-packages (from datasets) (1.26.4)\n",
      "Requirement already satisfied: pyarrow>=12.0.0 in /Users/yuntian/opt/anaconda3/envs/cpsc577/lib/python3.11/site-packages (from datasets) (16.0.0)\n",
      "Requirement already satisfied: pyarrow-hotfix in /Users/yuntian/opt/anaconda3/envs/cpsc577/lib/python3.11/site-packages (from datasets) (0.6)\n",
      "Requirement already satisfied: dill<0.3.9,>=0.3.0 in /Users/yuntian/opt/anaconda3/envs/cpsc577/lib/python3.11/site-packages (from datasets) (0.3.8)\n",
      "Requirement already satisfied: pandas in /Users/yuntian/opt/anaconda3/envs/cpsc577/lib/python3.11/site-packages (from datasets) (2.2.2)\n",
      "Requirement already satisfied: requests>=2.19.0 in /Users/yuntian/opt/anaconda3/envs/cpsc577/lib/python3.11/site-packages (from datasets) (2.31.0)\n",
      "Requirement already satisfied: tqdm>=4.62.1 in /Users/yuntian/opt/anaconda3/envs/cpsc577/lib/python3.11/site-packages (from datasets) (4.66.2)\n",
      "Requirement already satisfied: xxhash in /Users/yuntian/opt/anaconda3/envs/cpsc577/lib/python3.11/site-packages (from datasets) (3.4.1)\n",
      "Requirement already satisfied: multiprocess in /Users/yuntian/opt/anaconda3/envs/cpsc577/lib/python3.11/site-packages (from datasets) (0.70.16)\n",
      "Requirement already satisfied: fsspec<=2024.3.1,>=2023.1.0 in /Users/yuntian/opt/anaconda3/envs/cpsc577/lib/python3.11/site-packages (from fsspec[http]<=2024.3.1,>=2023.1.0->datasets) (2024.3.1)\n",
      "Requirement already satisfied: aiohttp in /Users/yuntian/opt/anaconda3/envs/cpsc577/lib/python3.11/site-packages (from datasets) (3.9.5)\n",
      "Requirement already satisfied: packaging in /Users/yuntian/opt/anaconda3/envs/cpsc577/lib/python3.11/site-packages (from datasets) (24.0)\n",
      "Requirement already satisfied: pyyaml>=5.1 in /Users/yuntian/opt/anaconda3/envs/cpsc577/lib/python3.11/site-packages (from datasets) (6.0.1)\n",
      "Requirement already satisfied: typing-extensions>=3.7.4.3 in /Users/yuntian/opt/anaconda3/envs/cpsc577/lib/python3.11/site-packages (from huggingface_hub) (4.11.0)\n",
      "Requirement already satisfied: aiosignal>=1.1.2 in /Users/yuntian/opt/anaconda3/envs/cpsc577/lib/python3.11/site-packages (from aiohttp->datasets) (1.3.1)\n",
      "Requirement already satisfied: attrs>=17.3.0 in /Users/yuntian/opt/anaconda3/envs/cpsc577/lib/python3.11/site-packages (from aiohttp->datasets) (23.2.0)\n",
      "Requirement already satisfied: frozenlist>=1.1.1 in /Users/yuntian/opt/anaconda3/envs/cpsc577/lib/python3.11/site-packages (from aiohttp->datasets) (1.4.1)\n",
      "Requirement already satisfied: multidict<7.0,>=4.5 in /Users/yuntian/opt/anaconda3/envs/cpsc577/lib/python3.11/site-packages (from aiohttp->datasets) (6.0.5)\n",
      "Requirement already satisfied: yarl<2.0,>=1.0 in /Users/yuntian/opt/anaconda3/envs/cpsc577/lib/python3.11/site-packages (from aiohttp->datasets) (1.9.4)\n",
      "Requirement already satisfied: charset-normalizer<4,>=2 in /Users/yuntian/opt/anaconda3/envs/cpsc577/lib/python3.11/site-packages (from requests>=2.19.0->datasets) (3.3.2)\n",
      "Requirement already satisfied: idna<4,>=2.5 in /Users/yuntian/opt/anaconda3/envs/cpsc577/lib/python3.11/site-packages (from requests>=2.19.0->datasets) (3.7)\n",
      "Requirement already satisfied: urllib3<3,>=1.21.1 in /Users/yuntian/opt/anaconda3/envs/cpsc577/lib/python3.11/site-packages (from requests>=2.19.0->datasets) (2.2.1)\n",
      "Requirement already satisfied: certifi>=2017.4.17 in /Users/yuntian/opt/anaconda3/envs/cpsc577/lib/python3.11/site-packages (from requests>=2.19.0->datasets) (2024.2.2)\n",
      "Requirement already satisfied: python-dateutil>=2.8.2 in /Users/yuntian/opt/anaconda3/envs/cpsc577/lib/python3.11/site-packages (from pandas->datasets) (2.9.0)\n",
      "Requirement already satisfied: pytz>=2020.1 in /Users/yuntian/opt/anaconda3/envs/cpsc577/lib/python3.11/site-packages (from pandas->datasets) (2024.1)\n",
      "Requirement already satisfied: tzdata>=2022.7 in /Users/yuntian/opt/anaconda3/envs/cpsc577/lib/python3.11/site-packages (from pandas->datasets) (2024.1)\n",
      "Requirement already satisfied: six>=1.5 in /Users/yuntian/opt/anaconda3/envs/cpsc577/lib/python3.11/site-packages (from python-dateutil>=2.8.2->pandas->datasets) (1.16.0)\n"
     ]
    }
   ],
   "source": [
    "!pip install --upgrade datasets huggingface_hub"
   ]
  },
  {
   "cell_type": "code",
   "execution_count": null,
   "metadata": {},
   "outputs": [],
   "source": []
  },
  {
   "cell_type": "markdown",
   "metadata": {},
   "source": [
    "## Raw Sarcasm analysis data generated by GPT-4 turbo"
   ]
  },
  {
   "cell_type": "code",
   "execution_count": 14,
   "metadata": {},
   "outputs": [],
   "source": [
    "import json\n",
    "from datasets import Dataset\n",
    "import yaml\n"
   ]
  },
  {
   "cell_type": "code",
   "execution_count": 15,
   "metadata": {},
   "outputs": [],
   "source": [
    "\n",
    "CONFIG_PATH = 'data_config.yaml'\n",
    "def load_config(config_path):\n",
    "        with open(config_path, 'r') as file:\n",
    "            return yaml.safe_load(file)\n",
    "config = load_config(CONFIG_PATH)\n",
    "hf_token = config['access_token']['hf_token']"
   ]
  },
  {
   "cell_type": "code",
   "execution_count": 3,
   "metadata": {},
   "outputs": [],
   "source": [
    "## to read the all_seasons_data_gpt4turbo.jsonl file\n",
    "all_seasons_data_gpt4turbo = []\n",
    "with open(\"chandler_bing_sarcasm_analysis_all_seasons.jsonl\", \"r\") as f:\n",
    "    for line in f:\n",
    "        all_seasons_data_gpt4turbo.append(json.loads(line))"
   ]
  },
  {
   "cell_type": "markdown",
   "metadata": {},
   "source": [
    "Two episodes, `S09E13` and `S10E03` had certain issue:\n",
    "* `S09E13` did not have the desired format when generated from the script using OpenAI API because the origianl data contains come unexpected tokens.\n",
    "* `S10E03` missed an important scene and lines in the script.\n",
    "\n",
    " Manually correcting add them through intereaction with ChatGPT."
   ]
  },
  {
   "cell_type": "code",
   "execution_count": 4,
   "metadata": {},
   "outputs": [],
   "source": [
    "#S09E13\n",
    "S09E13_miss = [{\n",
    "    \"Chandler_quote\": \"Was that place... The Sun?\",\n",
    "    \"Context\": \"Ross enters Monica and Chandler's apartment looking excessively tanned and explains he went to the tanning place Monica suggested. Ross: I went to that tanning place your wife suggested.\",\n",
    "    \"Sarcasm\": True,\n",
    "    \"Reason\": \"Chandler uses hyperbole humorously to exaggerate the intensity of Ross's tan, implying it's as if he had been to the sun.\",\n",
    "    \"Unlike_chandler_sarcastic\": \"Oh, what a subtle and natural glow you've achieved!\",\n",
    "    \"Unlike_chandler_sincere\": \"That's quite a tan, Ross. Did the tanning salon have a new special?\"\n",
    "}]\n",
    "for data in S09E13_miss:\n",
    "    data.update({\"episode\": \"S10E03\"})\n"
   ]
  },
  {
   "cell_type": "code",
   "execution_count": 5,
   "metadata": {},
   "outputs": [],
   "source": [
    "#S10E03\n",
    "S10E03_miss = [{\n",
    "    \"Chandler_quote\": \"Sure! Just give me a second to get all huffy and weird like you! Do you believe that whoever did something over here last night did what they did or didn't do ...I mean come on!!\",\n",
    "    \"Context\": \"Ross is trying to discuss something serious that happened last night, and Chandler mocks Ross's manner of approaching sensitive topics. Ross: Yeah! Yeah! OK! Sure! Look! Can we...can we talk about what happened here last night?\",\n",
    "    \"Sarcasm\": True,\n",
    "    \"Reason\": \"Chandler is mimicking Ross's agitated and peculiar way of speaking to highlight the absurdity of his approach, using exaggeration.\",\n",
    "    \"Unlike_chandler_sarcastic\": \"Absolutely, let us delve into the deep emotional impact of last night's events with the utmost seriousness.\",\n",
    "    \"Unlike_chandler_sincere\": \"Sure, Ross, I'm all ears. Let's talk about what's bothering you.\"\n",
    "}, {\n",
    "    \"Chandler_quote\": \"No!\",\n",
    "    \"Context\": \"Ross asks Chandler if he knows about an incident involving Rachel from the previous night, implying Chandler might be unaware of something important. Ross: OK you...you really don't know what I am talking about?\",\n",
    "    \"Sarcasm\": False,\n",
    "    \"Reason\": \"Chandler is genuinely uninformed about the incident Ross is referring to.\",\n",
    "    \"Unlike_chandler_sarcastic\": \"Oh, I was just pretending to be oblivious to keep the conversation thrilling.\",\n",
    "    \"Unlike_chandler_sincere\": \"I really have no idea, Ross, please tell me more.\"\n",
    "}, {\n",
    "    \"Chandler_quote\": \"Our balcony? Seriously? That's so funny because I told Monica we should put lights on our balcony. And she said \\\"No, no. It's too cold, nobody will go out there.\\\" And I said \\\"Maybe if we put some light out there they will\\\"\",\n",
    "    \"Context\": \"Ross tells Chandler about seeing Rachel kissing someone on their balcony. Ross: OK! Last night after the party I saw Rachel kissing that jerk from her office out on your balcony.\",\n",
    "    \"Sarcasm\": True,\n",
    "    \"Reason\": \"Chandler uses irony to comment on the coincidence of the kissing incident on the balcony, which he had previously suggested should be lit and more inviting.\",\n",
    "    \"Unlike_chandler_sarcastic\": \"Oh, how utterly surprising and unforeseen an event!\",\n",
    "    \"Unlike_chandler_sincere\": \"That's really surprising, Ross. Maybe we should reconsider the lighting out there.\"\n",
    "}, {\n",
    "    \"Chandler_quote\": \"So are you gonna...talk to her?\",\n",
    "    \"Context\": \"After Ross reveals seeing Rachel kissing someone on the balcony, Chandler inquires about Ross's next step regarding Rachel. Ross: even though there were NO LIGHTS!\",\n",
    "    \"Sarcasm\": False,\n",
    "    \"Reason\": \"Chandler's question is straightforward, showing concern about how Ross plans to handle the situation.\",\n",
    "    \"Unlike_chandler_sarcastic\": \"Or perhaps you'll just silently stew in your feelings, as usual?\",\n",
    "    \"Unlike_chandler_sincere\": \"I think it's important you talk to her and clear things up.\"\n",
    "}, {\n",
    "    \"Chandler_quote\": \"You know when \\\"That's fine\\\" sounds true when someone yells it and spits!\",\n",
    "    \"Context\": \"Ross tries to dismiss his feelings about Rachel moving on, but Chandler sarcastically comments on the believability of Ross's statement. Ross: No I'm serious. I mean she wants to date people? Fine! I don't care but...at least she could have told me. You know I...I've been putting my life on hold and just concentrating on Emma but if she wants to go out there kissing guys she barely knows, then so will I !\",\n",
    "    \"Sarcasm\": True,\n",
    "    \"Reason\": \"Chandler is mocking the way Ross is pretending to be okay with Rachel dating other people, implying that his loud and emphatic 'fine' is anything but sincere.\",\n",
    "    \"Unlike_chandler_sarcastic\": \"Yes, Ross, shouting always makes things more believable.\",\n",
    "    \"Unlike_chandler_sincere\": \"It sounds like you're really not okay with this, Ross. Maybe you should talk to her about how you feel.\"\n",
    "}, {\n",
    "    \"Chandler_quote\": \"Dude, don't rub my face in your crazy single life!\",\n",
    "    \"Context\": \"Ross talks about his encounters with women since becoming single, and Chandler jokingly complains about Ross flaunting his single life adventures. Ross: And then the other day on the subway a woman \\\"accidentally\\\" sat on my hand.\",\n",
    "    \"Sarcasm\": True,\n",
    "    \"Reason\": \"Chandler sarcastically pretends to be upset about Ross sharing his single life experiences, suggesting it's more pitiful than enviable.\",\n",
    "    \"Unlike_chandler_sarcastic\": \"Please, continue, I live vicariously through your thrilling escapades.\",\n",
    "    \"Unlike_chandler_sincere\": \"It sounds like you're having quite the interesting time being single, Ross.\"\n",
    "}]\n",
    "\n",
    "for data in S10E03_miss:\n",
    "    data.update({\"episode\": \"S10E03\"})"
   ]
  },
  {
   "cell_type": "code",
   "execution_count": 16,
   "metadata": {},
   "outputs": [
    {
     "data": {
      "text/plain": [
       "1978"
      ]
     },
     "execution_count": 16,
     "metadata": {},
     "output_type": "execute_result"
    }
   ],
   "source": [
    "data_complete = all_seasons_data_gpt4turbo + S10E03_miss+ S09E13_miss\n",
    "\n",
    "with open(\"chandler_bing_sarcasm_analysis_all_seasons_complete.jsonl\", \"w\") as f:\n",
    "    for item in data_complete:\n",
    "        f.write(json.dumps(item) + \"\\n\")\n",
    "\n",
    "len(data_complete)"
   ]
  },
  {
   "cell_type": "code",
   "execution_count": 51,
   "metadata": {},
   "outputs": [
    {
     "name": "stderr",
     "output_type": "stream",
     "text": [
      "Creating parquet from Arrow format: 100%|██████████| 2/2 [00:00<00:00, 150.12ba/s]\n",
      "Uploading the dataset shards: 100%|██████████| 1/1 [00:00<00:00,  1.49it/s]\n"
     ]
    },
    {
     "data": {
      "text/plain": [
       "CommitInfo(commit_url='https://huggingface.co/datasets/yl2342/friends_chandler_bing_sarcasm/commit/306bb5020f9e3bc4f2c0c7210b4dc65bc2962807', commit_message='Upload dataset', commit_description='', oid='306bb5020f9e3bc4f2c0c7210b4dc65bc2962807', pr_url=None, pr_revision=None, pr_num=None)"
      ]
     },
     "execution_count": 51,
     "metadata": {},
     "output_type": "execute_result"
    }
   ],
   "source": [
    "## make data_compelte that can be converted to a dataset with from_dict()\n",
    "\n",
    "data_complete_dict = {\n",
    "    \"Chandler_quote\": [item[\"Chandler_quote\"] for item in data_complete],\n",
    "    \"Context\": [item[\"Context\"] for item in data_complete],\n",
    "    \"Sarcasm\": [item[\"Sarcasm\"] for item in data_complete],\n",
    "    \"Reason\": [item[\"Reason\"] for item in data_complete],\n",
    "    \"Unlike_chandler_sarcastic\": [item[\"Unlike_chandler_sarcastic\"] for item in data_complete],\n",
    "    \"Unlike_chandler_sincere\": [item[\"Unlike_chandler_sincere\"] for item in data_complete],\n",
    "    \"episode\": [item[\"episode\"] for item in data_complete]\n",
    "}\n",
    "\n",
    "data_complete_dataset = Dataset.from_dict(data_complete_dict)\n",
    "data_complete_dataset.push_to_hub(\"yl2342/friends_chandler_bing_sarcasm\",\n",
    "                                  'default',\n",
    "                                  hf_token)"
   ]
  },
  {
   "cell_type": "code",
   "execution_count": 52,
   "metadata": {},
   "outputs": [
    {
     "name": "stdout",
     "output_type": "stream",
     "text": [
      "Total number of sarcastic comments: 1167\n",
      "Total number of comments: 1978\n",
      "Percentage of sarcastic comments: 0.589989888776542\n"
     ]
    }
   ],
   "source": [
    "sarcasm = [ data['Sarcasm'] for data in data_complete_dataset]\n",
    "sarcasm_count = sum(sarcasm)\n",
    "total_count = len(sarcasm)\n",
    "sarcasm_percentage = sarcasm_count/total_count\n",
    "print(f\"Total number of sarcastic comments: {sarcasm_count}\")\n",
    "print(f\"Total number of comments: {total_count}\")\n",
    "print(f\"Percentage of sarcastic comments: {sarcasm_percentage}\")"
   ]
  },
  {
   "cell_type": "markdown",
   "metadata": {},
   "source": [
    "## Preference data"
   ]
  },
  {
   "cell_type": "markdown",
   "metadata": {},
   "source": [
    "https://huggingface.co/docs/transformers/en/chat_templating"
   ]
  },
  {
   "cell_type": "markdown",
   "metadata": {},
   "source": [
    "# prompt example \n",
    "`\"As Chandler Bing, the witty and sarcastic character from the TV sitcom 'Friends', you have your unique sense of humor and tendency to make jokes and use sarcasm. Given the context or conversation below within the <context> sign, please respond in your unique Chandler Bing way. Append an indicator [sarcasm: True/False] at the end indicating if you used sarcasm for your response in this context. \n",
    "<context> Ross is upset about someone eating his sandwich at work and Chandler responds with a question implying the situation is overly dramatic. <context>\"`\n"
   ]
  },
  {
   "cell_type": "code",
   "execution_count": 41,
   "metadata": {},
   "outputs": [],
   "source": [
    "# act_prompt = \"You are a helpful assistant who will act like Chandler Bing, the witty and sarcastic character from the TV sitcom 'Friends' who ha unique sense of humor and tendency to make jokes and use sarcasm. Given the context or conversation provided, please respond in the style of Chandler Bing. Append an indicator [sarcasm: True/False] at the end indicating if you used sarcasm for your response in this context.\""
   ]
  },
  {
   "cell_type": "code",
   "execution_count": 68,
   "metadata": {},
   "outputs": [],
   "source": [
    "act_prompt = \"As Chandler Bing, the witty and sarcastic character from the TV sitcom 'Friends', you have your unique sense of humor and tendency to make jokes and use sarcasm. Given the context provided below, please respond in the style of Chandler Bing. \"\n"
   ]
  },
  {
   "cell_type": "code",
   "execution_count": 69,
   "metadata": {},
   "outputs": [
    {
     "name": "stderr",
     "output_type": "stream",
     "text": [
      "Creating parquet from Arrow format: 100%|██████████| 2/2 [00:00<00:00, 369.01ba/s]\n",
      "Uploading the dataset shards: 100%|██████████| 1/1 [00:00<00:00, 11.79it/s]\n"
     ]
    },
    {
     "data": {
      "text/plain": [
       "CommitInfo(commit_url='https://huggingface.co/datasets/yl2342/friends_chandler_bing_sarcasm/commit/8b0831d0c3b01354ebabd1cae0d270c002fc82fb', commit_message='Upload dataset', commit_description='', oid='8b0831d0c3b01354ebabd1cae0d270c002fc82fb', pr_url=None, pr_revision=None, pr_num=None)"
      ]
     },
     "execution_count": 69,
     "metadata": {},
     "output_type": "execute_result"
    }
   ],
   "source": [
    "# for chosen response\n",
    "# for each data entry in data_complete, create a chat template where the user content is the act context + content surrounded by <context> and </context>\n",
    "# and the assistant content is the Chandler_quote\n",
    "\n",
    "# for rejected response\n",
    "# for each data entry in data_complete, create a chat template where the user content is the act context + content surrounded by <context> and </context>\n",
    "# and the assistant content is the Unlike_chandler_sarcastic\n",
    "\n",
    "chosen = []\n",
    "rejected = []\n",
    "prompt = []\n",
    "for data in data_complete:\n",
    "    chosen.append(data[\"Chandler_quote\"])\n",
    "    rejected.append( data[\"Unlike_chandler_sarcastic\"])\n",
    "    prompt.append(act_prompt + \" Context: \" + data['Context'])\n",
    "\n",
    "## create a dict of list that can be converted into dataset\n",
    "preference_data = {\n",
    "    \"chosen\": chosen,\n",
    "    \"rejected\": rejected,\n",
    "    \"prompt\": prompt\n",
    "}\n",
    "\n",
    "preference_data\n",
    "preference_dataset = Dataset.from_dict(preference_data)\n",
    "preference_dataset.push_to_hub(repo_id = \"yl2342/friends_chandler_bing_sarcasm\",\n",
    "                               config_name ='preference_raw', \n",
    "                               token = hf_token)\n"
   ]
  },
  {
   "cell_type": "code",
   "execution_count": 70,
   "metadata": {},
   "outputs": [
    {
     "name": "stderr",
     "output_type": "stream",
     "text": [
      "Creating parquet from Arrow format: 100%|██████████| 2/2 [00:00<00:00, 162.97ba/s]\n",
      "Uploading the dataset shards: 100%|██████████| 1/1 [00:00<00:00,  3.17it/s]\n"
     ]
    },
    {
     "data": {
      "text/plain": [
       "CommitInfo(commit_url='https://huggingface.co/datasets/yl2342/friends_chandler_bing_sarcasm/commit/b8dab3a75d5836939fc410d8aeff0df18d0ff847', commit_message='Upload dataset', commit_description='', oid='b8dab3a75d5836939fc410d8aeff0df18d0ff847', pr_url=None, pr_revision=None, pr_num=None)"
      ]
     },
     "execution_count": 70,
     "metadata": {},
     "output_type": "execute_result"
    }
   ],
   "source": [
    "# make Templates for Chat Models\n",
    "# chat = [\n",
    "#    {\"role\": \"user\", \"content\": \"Hello, how are you?\"},\n",
    "#    {\"role\": \"assistant\", \"content\": \"I'm doing great. How can I help you today?\"},\n",
    "#    {\"role\": \"user\", \"content\": \"I'd like to show off how chat templating works!\"},\n",
    "# ]\n",
    "\n",
    "chosen = []\n",
    "rejected = []\n",
    "prompt = []\n",
    "for data in data_complete:\n",
    "    chosen.append([\n",
    "        {\"role\": \"system\", \"content\": act_prompt},\n",
    "        {\"role\": \"user\", \"content\": f\" Context: {data['Context']}\"},\n",
    "        {\"role\": \"assistant\", \"content\": data[\"Chandler_quote\"]}\n",
    "    ])\n",
    "    rejected.append([\n",
    "        {\"role\": \"system\", \"content\": act_prompt},\n",
    "        {\"role\": \"user\", \"content\": f\" Context: {data['Context']}\"},\n",
    "        {\"role\": \"assistant\", \"content\": data[\"Unlike_chandler_sarcastic\"]}\n",
    "    ])\n",
    "    prompt.append(act_prompt + f\" Context: {data['Context']}\")\n",
    "\n",
    "## create a dict of list that can be converted into dataset\n",
    "preference_data = {\n",
    "    \"chosen\": chosen,\n",
    "    \"rejected\": rejected,\n",
    "    \"prompt\": prompt\n",
    "}\n",
    "preference_data\n",
    "\n",
    "preference_dataset = Dataset.from_dict(preference_data)\n",
    "preference_dataset.push_to_hub(repo_id = \"yl2342/friends_chandler_bing_sarcasm\",\n",
    "                               config_name ='preference_chat', \n",
    "                               token = hf_token)"
   ]
  },
  {
   "cell_type": "code",
   "execution_count": 72,
   "metadata": {},
   "outputs": [
    {
     "name": "stderr",
     "output_type": "stream",
     "text": [
      "Creating parquet from Arrow format: 100%|██████████| 2/2 [00:00<00:00, 166.72ba/s]\n",
      "Uploading the dataset shards: 100%|██████████| 1/1 [00:00<00:00,  1.81it/s]\n"
     ]
    },
    {
     "data": {
      "text/plain": [
       "CommitInfo(commit_url='https://huggingface.co/datasets/yl2342/friends_chandler_bing_sarcasm/commit/98af32891cacc7721d9bb5ea2c0c4fca724b6f1b', commit_message='Upload dataset', commit_description='', oid='98af32891cacc7721d9bb5ea2c0c4fca724b6f1b', pr_url=None, pr_revision=None, pr_num=None)"
      ]
     },
     "execution_count": 72,
     "metadata": {},
     "output_type": "execute_result"
    }
   ],
   "source": [
    "## instruction data\n",
    "# \"<s>[INST] {act_prompt} {data['Context']} [/INST] {data[\"Chandler_quote\"]} </s>\"\n",
    "\n",
    "\n",
    "promopt = []\n",
    "completion = []\n",
    "instruct = []\n",
    "\n",
    "for data in data_complete:\n",
    "    promopt.append(act_prompt + f\" Context: {data['Context']}\")\n",
    "    completion.append(data[\"Chandler_quote\"])\n",
    "    instruct.append(\"<s>[INST]\"+ act_prompt+ data['Context']+ \"[/INST]\" +data[\"Chandler_quote\"]+  \"</s>\")\n",
    "    \n",
    "\n",
    "## create a dict of list that can be converted into dataset\n",
    "instruct_data = {\n",
    "    \"promopt\": promopt,\n",
    "    \"completion\": completion,\n",
    "    \"instruct\": instruct\n",
    "}\n",
    "\n",
    "instruct_data = Dataset.from_dict(instruct_data)\n",
    "instruct_data.push_to_hub(repo_id = \"yl2342/friends_chandler_bing_sarcasm\",\n",
    "                               config_name ='instruct', \n",
    "                               token = hf_token)\n"
   ]
  },
  {
   "cell_type": "code",
   "execution_count": null,
   "metadata": {},
   "outputs": [],
   "source": []
  }
 ],
 "metadata": {
  "kernelspec": {
   "display_name": "cpsc577",
   "language": "python",
   "name": "python3"
  },
  "language_info": {
   "codemirror_mode": {
    "name": "ipython",
    "version": 3
   },
   "file_extension": ".py",
   "mimetype": "text/x-python",
   "name": "python",
   "nbconvert_exporter": "python",
   "pygments_lexer": "ipython3",
   "version": "3.11.9"
  }
 },
 "nbformat": 4,
 "nbformat_minor": 2
}
