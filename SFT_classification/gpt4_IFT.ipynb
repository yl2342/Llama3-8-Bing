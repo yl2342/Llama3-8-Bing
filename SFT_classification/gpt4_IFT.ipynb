{
 "cells": [
  {
   "cell_type": "code",
   "execution_count": null,
   "id": "4c70e483-1f02-4cb1-b236-37a64758e9f8",
   "metadata": {},
   "outputs": [],
   "source": [
    "import pandas as pd\n",
    "import os\n",
    "from openai import OpenAI\n",
    "from tqdm import tqdm\n",
    "import time\n",
    "import random\n",
    "random.seed(666)\n",
    "print(\"load done\")"
   ]
  },
  {
   "cell_type": "code",
   "execution_count": null,
   "id": "56c03469-c45d-45a9-8aaf-e451629056d6",
   "metadata": {},
   "outputs": [],
   "source": [
    "## This code block directly reads training and testing dataset from the github data source\n",
    "\n",
    "\n",
    "twitter_training = pd.read_json('https://raw.githubusercontent.com/EducationalTestingService/sarcasm/master/twitter/sarcasm_detection_shared_task_twitter_training.jsonl',lines=True)\n",
    "twitter_testing = pd.read_json('https://raw.githubusercontent.com/EducationalTestingService/sarcasm/master/twitter/sarcasm_detection_shared_task_twitter_testing.jsonl',lines=True)\n",
    "reddit_training = pd.read_json('https://raw.githubusercontent.com/EducationalTestingService/sarcasm/master/reddit/sarcasm_detection_shared_task_reddit_training.jsonl',lines=True)\n",
    "reddit_testing = pd.read_json('https://raw.githubusercontent.com/EducationalTestingService/sarcasm/master/reddit/sarcasm_detection_shared_task_reddit_testing.jsonl',lines=True)\n",
    "combined_training, combined_testing  = pd.concat([reddit_training, twitter_training], ignore_index=True), pd.concat([reddit_testing, twitter_testing], ignore_index=True)\n",
    "combined_training['full_seq'] = \"context: \" + combined_training['context'].astype(str) + \" response: \" + combined_training['response'].astype(str)\n",
    "combined_testing['full_seq'] = \"context: \" + combined_testing['context'].astype(str) + \" response: \" + combined_testing['response'].astype(str)\n",
    "\n"
   ]
  },
  {
   "cell_type": "code",
   "execution_count": null,
   "id": "cd4c258f-cfdd-480e-bee7-65a6a672c4c9",
   "metadata": {},
   "outputs": [],
   "source": [
    "## Set up the client account and write the prompt function\n",
    "\n",
    "client = OpenAI(api_key=os.environ.get(\"OPENAI_API_KEY\"))\n",
    "\n",
    "def api_predict(i, model = \"gpt-3.5-turbo\", temperature = 0, frequency_penalty = 0.0, toc = False, one_shot = False):\n",
    "    task = \"Classify the user's response given context as either 'SARCASM' or 'NOT_SARCASM'. Only output 'SARCASM' or 'NOT_SARCASM' without anything else. \"\n",
    "    if toc:\n",
    "            task = \"Classify the user's response given context as either 'SARCASM' or 'NOT_SARCASM'. Give the explanation of your answer. \"\n",
    "    if one_shot:\n",
    "        random_num = random_number = random.randint(0, len(combined_training)-1)\n",
    "        task = \"Below is an example of a \" + combined_training[\"label\"][random_num] + \" response given its context: \" + combined_training['full_seq'][random_num] + \". The example is finished. \" + task\n",
    "    chat_completion = client.chat.completions.create(\n",
    "    temperature = temperature, frequency_penalty = frequency_penalty,\n",
    "    messages=[\n",
    "        { \"role\": \"user\", \"content\": \n",
    "            task + combined_testing[\"full_seq\"][i],\n",
    "        }],\n",
    "    model=model, max_tokens= 4096)\n",
    "    return chat_completion.choices[0].message.content"
   ]
  },
  {
   "cell_type": "code",
   "execution_count": null,
   "id": "685eb38c-83af-4065-8f83-15597ffa98bd",
   "metadata": {},
   "outputs": [],
   "source": [
    "## Run the prediction via gpt api for different scenaiors:\n",
    "\n",
    "def make_predictions(model, toc, one_shot):\n",
    "    pre_dict = []\n",
    "    for i in tqdm(range(len(combined_testing))):\n",
    "        pre_dict.append(api_predict(i, model = model, toc = toc, one_shot = one_shot))\n",
    "    return pre_dict\n",
    "\n",
    "# gpt3.5, no TOC, 0-shot\n",
    "pre_dict_gpt3shot_0 = make_predictions(model = \"gpt-3.5-turbo\", toc = False, one_shot = False)\n",
    "sum(pre_dict_gpt3shot_0==combined_testing[\"label\"])/3600\n",
    "df = pd.DataFrame(pre_dict_gpt3shot_0, columns=['Element'])\n",
    "df.to_csv('pre_dict_gpt3shot_0.csv', index=False)\n",
    "\n",
    "# gpt4, no TOC, 0-shot\n",
    "pre_dict_gpt4shot_0 = make_predictions(model = \"gpt-4-turbo\", toc = False, one_shot = False)\n",
    "sum(pre_dict_gpt4shot_0==combined_testing[\"label\"])/3600\n",
    "df = pd.DataFrame(pre_dict_gpt4shot_0, columns=['Element'])\n",
    "df.to_csv('pre_dict_gpt4shot_0.csv', index=False)\n",
    "\n",
    "# gpt3.5, TOC, 0-shot\n",
    "pre_dict_gpt3shot_0_toc = make_predictions(model = \"gpt-3.5-turbo\", toc = True, one_shot = False)\n",
    "process_pre_dict_gpt3shot_0_toc = [\"NOT_SARCASM\" if \"NOT_SARCASM\" in answer else \"SARCASM\" for answer in pre_dict_gpt3shot_0_toc]\n",
    "print(sum(process_pre_dict_gpt3shot_0_toc==combined_testing[\"label\"])/3600)\n",
    "df = pd.DataFrame(pre_dict_gpt3shot_0_toc, columns=['Element'])\n",
    "df.to_csv('pre_dict_gpt3shot_0_toc.csv', index=False)\n",
    "\n",
    "# gpt3.5, no TOC, 1-shot\n",
    "pre_dict_gpt3shot_1 = make_predictions(model = \"gpt-3.5-turbo\", toc = False, one_shot = True)\n",
    "sum(pre_dict_gpt3shot_1==combined_testing[\"label\"])/3600\n",
    "df = pd.DataFrame(pre_dict_gpt3shot_1, columns=['Element'])\n",
    "df.to_csv('pre_dict_gpt3shot_1.csv', index=False)\n"
   ]
  }
 ],
 "metadata": {
  "kernelspec": {
   "display_name": "Python 3 (ipykernel)",
   "language": "python",
   "name": "python3"
  },
  "language_info": {
   "codemirror_mode": {
    "name": "ipython",
    "version": 3
   },
   "file_extension": ".py",
   "mimetype": "text/x-python",
   "name": "python",
   "nbconvert_exporter": "python",
   "pygments_lexer": "ipython3",
   "version": "3.8.19"
  }
 },
 "nbformat": 4,
 "nbformat_minor": 5
}
